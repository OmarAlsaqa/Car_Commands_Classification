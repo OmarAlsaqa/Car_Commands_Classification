{
  "nbformat": 4,
  "nbformat_minor": 0,
  "metadata": {
    "colab": {
      "name": "Car_Commands_Classification.ipynb",
      "provenance": [],
      "collapsed_sections": [
        "wji1xwsmWRf6"
      ],
      "toc_visible": true,
      "authorship_tag": "ABX9TyNBWJnZ3p1uvfJ5MJswFqp3",
      "include_colab_link": true
    },
    "kernelspec": {
      "name": "python3",
      "display_name": "Python 3"
    }
  },
  "cells": [
    {
      "cell_type": "markdown",
      "metadata": {
        "id": "view-in-github",
        "colab_type": "text"
      },
      "source": [
        "<a href=\"https://colab.research.google.com/github/OmarAlsaqa/Car_Commands_Classification/blob/master/Car_Commands_Classification.ipynb\" target=\"_parent\"><img src=\"https://colab.research.google.com/assets/colab-badge.svg\" alt=\"Open In Colab\"/></a>"
      ]
    },
    {
      "cell_type": "markdown",
      "metadata": {
        "id": "wji1xwsmWRf6",
        "colab_type": "text"
      },
      "source": [
        "## **Cleaning**"
      ]
    },
    {
      "cell_type": "code",
      "metadata": {
        "id": "iSdZ_gDNXYh7",
        "colab_type": "code",
        "outputId": "da5c7207-655a-4137-abed-6767d31aa7b7",
        "colab": {
          "base_uri": "https://localhost:8080/",
          "height": 55
        }
      },
      "source": [
        "# load data\n",
        "filename = 'a.txt'\n",
        "file = open(filename, 'rt')\n",
        "text = file.read()\n",
        "file.close()\n",
        "\n",
        "# split into sentences\n",
        "from nltk import sent_tokenize\n",
        "sentences = sent_tokenize(text)\n",
        "sentences = str(sentences[0])\n",
        "#print(sentences)\n",
        "sentences = sentences.split('\\n')\n",
        "print(sentences)"
      ],
      "execution_count": 0,
      "outputs": [
        {
          "output_type": "stream",
          "text": [
            "['open air conditioner', 'open the vent conditioner', 'the open air conditioner', 'open the air exposed conditioner', 'open the air conditioner ', 'close air the conditioner', 'close the conditioner', 'penny pinching the air conditioner', 'close the air snug conditioner', 'close the air conditioner ', 'hot is it open the air conditioner', 'send it is hot open the air conditioner', 'it is hot open the beam conditioner', 'it is hot open the conditioner air', 'it is hot open the air conditioner ', 'cold is it close the air conditioner', 'it is cold close the atmosphere conditioner', 'it is cold close the air conditioner ', 'the set air conditioner to', 'set the conditioner to', 'set the air conditioner to', 'set air the conditioner to', 'set the air conditioner to ', 'set band the tempreture to', 'band set the tempreture to', 'set the tempreture to', 'set to tempreture the', 'set the tempreture to ', 'higher tempreture', 'higher gamy tempreture', 'higher gamy tempreture', 'higher tempreture ', 'humbled tempreture', 'depleted lower tempreture', 'tempreture lower', 'lower tempreture', 'lower tempreture', 'make it insensate', 'make it colder ', 'make it hotter', 'shuffling it hotter', 'make it hotter', 'make it live', 'make it hotter', 'hot am i', 'i am hot', 'i am raging', 'i am hot', 'i am hot ', 'i am cold', 'i have common cold', 'am i cold', 'i am cold', 'what is the air conditioner tempretrure', 'what is the send air conditioner tempretrure', 'what is the publicise conditioner tempretrure ', 'it is hot give me some air', 'hot is it give me some air', 'it is hot kick in me some air', 'it is hot give way me some air', 'it is hot give me some air ', 'it is blistering', 'is it hot', 'is it cold', 'it equal is cold', 'it stale is cold', 'it is cold ', 'it is freezing fix this', 'it is freezing this fix ', 'it is hot adjust the tempreture', 'conform it is hot adjust the tempreture', 'it is hot adjust the tempreture', 'adjust is freezing it the tempreture', 'it freezing is adjust the tempreture', 'it is freezing adjust the tempreture', 'ventilate conditioner swing', 'air conditioner swing', 'air conditioner get around', 'air dangle conditioner swing', 'air conditioner swing', 'air conditioner quit swing', 'air conditioner stop swing', 'air dangle conditioner stop swing', 'air conditioner stop swing', 'turn down the heat', 'turn the down heat', 'turn down the heat', 'reduce the cut back temperature', 'the reduce temperature', 'reduce the temperature', 'make it cooler', 'make it cool cooler', 'lounge the decrease by degrees', 'decrease the lounge by academic degree', 'decrease the lounge by degrees', 'decrease the degrees by lounge', 'decrease the lounge by degrees', 'make establish the lounge cooler', 'make the lounge cooler', 'lounge the make cooler', 'make the lounge cooler', 'make the lounge cooler', 'lower lounge the by degrees', 'lower the sofa lounge by degrees', 'lower away the lounge by degrees', 'low the lounge by degrees', 'lower the lounge by degrees', 'make lounge warmer', 'make the lounge strong', 'make lounge warmer', 'make the lounge warmer', 'make it strong in the lounge', 'make the warmer in it lounge', 'make it warmer in the lounge', 'make it warmer in the lounge', 'raise the degrees by lounge', 'raise the lounge by degrees', 'raise the mill about by degrees', 'the lounge degrees', 'raise the lounge by degrees', 'step up the lounge by degrees', 'increase the lounge by growth degrees', 'increase the mess about by degrees', 'increase the lounge degrees', 'increase the lounge by degrees', 'turn up the lounge by degrees', 'rick up the lounge by degrees', 'turn up degrees lounge by the', 'turn up the lounge by degrees', 'make hotter it', 'make hot it hotter', 'make it hotter', 'turn up the heat', 'turn up the hotness', 'up the heat', 'turn up the heat', 'raise enkindle the temperature', 'fire the temperature', 'raise temperature', 'raise the temperature', 'produce the temperature by', 'prove the temperature by', 'the raise temperature by', 'temperature the raise by', 'raise the temperature by ', 'what to the lounge set is', 'what band is the lounge set to', 'what is the lounge set to', 'set the couch speed to auto', 'set the lounge pelt along speed to auto', 'set the auto speed to lounge', 'set lounge speed auto', 'set the lounge speed to auto', 'set the lounge to low', 'set the lounge sofa low', 'raise the pelt along lounge speed', 'raise the lounge speed', 'lounge the raise speed', 'raise the lounge speed', 'lower the lounge speed', 'lower lounge the speed', 'the lower lounge speed', 'set the fan to speed low', 'set the fan speed low', 'set the fan speed to low down', 'set the fan speed to low', 'set the to speed fan fast', 'coiffure the fan speed to fast', 'set the fan speed to fast', 'turn on the aura conditioner', 'turn the on air conditioner', 'along turn on the air conditioner', 'turn on the air conditioner', 'turn air the off conditioner', 'turn off the line conditioner', 'turning turn off the air conditioner', 'the off turn air conditioner', 'turn off the air conditioner', 'stir up change the mode to heat', 'mode the change to heat', 'change the mode to wake', 'change the mode to heat', 'change the mode to heat ', 'change the way to cool', 'alter the mode to cool', 'change the mode shift to cool', 'change the mode to cool', 'set the mode to stir up', 'to the mode set heat', 'set the stir up mode to heat', 'set the mode to heat', 'set the mode to heat ', 'set the to mode cool', 'set the cool to mode', 'set the mode cool', 'set the mode to cool', 'the adjust mirror for me', 'adjust the mirror for me', 'wide the mirror angle', 'wide the mirror wide eyed angle', 'wide the mirror wide eyed angle', 'wide of the mark the mirror angle', 'wide the mirror angle', 'reduce the mirror weight', 'angle the mirror reduce', 'reduce the mirror tip', 'reduce the cut back mirror angle', 'reduce the mirror angle', 'quiz me', 'me quiz', 'quiz me', 'test me', 'quiz me', 'me puzzle', 'puzzle me', 'get me', 'mystify me', 'puzzle me', 'tell me a joke', 'severalize me a joke', 'could you make me maine laugh', 'could you shuffling me laugh', 'could you make me laugh', 'you are so sassy', 'sassy you are so smart', 'are you so smart', 'you are so smart ', 'you are undecomposed a good help', 'you are a good help', 'are you a good help', 'are a good help', 'you are a good help', 'this is so helpful', 'thence this is so helpful', 'are you stupid', 'you are stunned', 'turning turn on the bluetooth', 'routine on the bluetooth', 'turn on the bluetooth', 'the on turn bluetooth', 'turn on the bluetooth', 'turned turn off the bluetooth', 'turn bluetooth the off', 'turn off the bluetooth', 'turn turned off the bluetooth', 'turn off the bluetooth', 'connect to gimmick', 'connect to device', 'connect to gimmick device', 'device to connect', 'connect to device', 'twist on the gps', 'turn on along the gps', 'turn on the gps', 'open the gps for me please', 'open the gps for delight me please', 'open the global positioning system for me please', 'me the gps for open please', 'open the gps for me please', 'get workplace the gps to work', 'get the global positioning system to work', 'to the gps get work', 'get the gps to work', 'get the gps to work', 'is the global positioning system working', 'is the gps working', 'open the navigator', 'open the sailing master navigator', 'open the navigator', 'the gps', 'gps start', 'start the global positioning system', 'start the gps', 'turning off the gps', 'rick off the gps', 'turn off the gps', 'turn off turned the gps', 'shutdown the gps for me please', 'for the gps shutdown me please', 'delight shutdown the gps for me please', 'shutdown the gps for me please', 'shutdown the gps for me please', 'stop the global positioning system from working', 'stop gps the from working', 'stop the gps from working', 'the stop gps from working', 'stop the gps from working', 'why the gps still working', 'the gps still working', 'why the global positioning system still working', 'why the gps still working', 'stop the navigator', 'occlusive the navigator', 'the navigator', 'navigator the stop', 'stop the navigator', 'pin current bowling pin location', 'pin current location', 'current pin location', 'flow pin current location', 'pin current location', 'nearst pin loc', 'pin nearst bowling pin loc', 'pin loc nearst', 'bowling pin pin nearst loc', 'pin nearst loc ', 'situate loc', 'locate loc', 'loc locate', 'place locate loc', 'locate loc ', 'where is loc', 'where is equal loc', 'where is loc', 'where loc is', 'where is loc ', 'search loc for', 'search look for for loc', 'search for loc', 'loc for search', 'search for loc ', 'become get direction to loc', 'engender direction to loc', 'direction get to loc', 'get direction to loc', 'get direction to loc ', 'you acknowledge the way to loc', 'you know the way to path loc', 'path you know the way to loc', 'you know the means to loc', 'you know the way to loc ', 'where i am', 'i where am', 'i feel mixed up lost', 'i feel lost', 'evaluate the distance to loc', 'evaluate to distance the loc', 'evaluate the distance length to loc', 'evaluate the aloofness to loc', 'evaluate the distance to loc', 'evaluate time to loc', 'get the time to evaluate to loc', 'evaluate the time to get to loc ', 'are we there however', 'are we there nonetheless', 'are we there yet', 'relocate loc', 'loc relocate', 'relocate loc', 'reroute', 'update the data', 'update the datum', 'information update the data', 'update if there is exchange', 'update if there is changes', 'changes if there is update', 'update if there is changes', 'update if there is changes', 'update to last', 'update to latest variation', 'edition update to last version', 'update to latest version', 'navigate through', 'navigate through path route', 'navigate thtough path', 'navigate route through', 'navigate through route ', 'select the nearest route', 'route the nearest select', 'select the nearest road', 'select the route nearest', 'select the nearest route', 'take me to rest nearest loc shop the gas', 'take me rest the nearest loc shop to gas', 'take me to the nearest loc vaunt shop rest gas', 'take me to the nearest loc shop rest gas ', 'take me to the locaction favorite nearest', 'take me to the approximate favorite locaction', 'take nearest to the me favorite locaction', 'me to the nearest favorite locaction', 'take me to the nearest favorite locaction', 'check available routes', 'check useable routes', 'check the route best for me', 'check best route for me', 'check the salutary route for me', 'check the best route for me', 'tip check if there is fees on the this way', 'check if there is fees on the this way', 'check equal if there is fees on the this way', 'check there is fees on the this way', 'check if there is fees on the this way', 'check into if there is stoppage', 'check there if is stoppage', 'check if there is occlusion stoppage', 'check if there is stoppage', 'establish show the nearst stoopage', 'exhibit the nearst stoopage', 'show the stoopage nearst', 'testify the nearst stoopage', 'show the nearst stoopage ', 'show pivot', 'show establish pins', 'pins show', 'show pin tumbler', 'show pins', 'show accelerator pedal stations', 'vaunt show gas stations', 'show bluster stations', 'gas show stations', 'show gas stations', 'show establish resturant', 'express resturant', 'exhibit resturant', 'show resturant', 'prove where i am', 'i where show am', 'show where i am', 'enshroud pins', 'pins hide', 'hide pins', 'veil hide gas stations', 'hide stations gas', 'gas hide stations', 'hide gas stations', 'resturant hide', 'shroud resturant', 'resturant hide', 'hide resturant', 'set the dark mode', 'set the dark mode delight', 'dark the set mode please', 'set the dark mode please', 'set the light mode delight', 'set the light mode please', 'spark set the light mode please', 'set the light mode delight please', 'set the light mode please', 'switch mode', 'change mode', 'change', 'manner change mode', 'change mode', 'could change the mode for me', 'could you change me mode for the', 'could you change shift the mode for me', 'could you change the mode for me', 'change of my current location', 'change shape the of my current location', 'change the flesh of my current location', 'flow change the shape of my current location', 'change the shape of my current location', 'add darling this to loc to favorite', 'lend this to loc to favorite', 'add this to loc to favorite', 'add this to loc to favorite', 'dearie this loc', 'preferent this loc', 'darling favorite this loc', 'favorite loc', 'favorite this loc ', 'value this loc', 'rate this loc', 'rate this', 'rate this loc', 'dislike this loc', 'disfavour this loc', 'this dislike loc', 'dislike this loc ', 'this horriable', 'horriable this', 'this howling fantastic', 'this fantastic', 'howling this fantastic', 'fantastic this', 'this fantastic', 'wow i would like to come here a good deal', 'wow i would like to come here a lot', 'would never come here again', 'i hither would never come here again', 'i would neer come here again', 'i would never come here again', 'rate high', 'rate it high', 'rate it low', 'range it low', 'rate it low', 'low it rate', 'rate it low', 'rate it one', 'it rate one', 'rate it one', 'rate rank it two', 'rate it two', 'it rate three', 'rate it three', 'rate rank it four', 'rate four it', 'four it rate', 'rate it four', 'rate five it', 'place it five', 'rate it five', 'this shit', 'is this shit', 'this is tinkers dam', 'this is shit', 'is this fun', 'this is fun', 'fun is this', 'this is fun', 'courteous this is nice', 'nice is this', 'perfect this', 'this consummate perfect', 'this perfect', 'perfect this', 'this perfect ', 'is this perfect', 'this is equal perfect', 'this is perfect', 'is perfect', 'this is perfect', 'wherefore why would any one come here', 'why would any one fare here', 'why would one any come here', 'sucks this', 'this sucks', 'take in this sucks', 'some life here', 'bring here some life on', 'bring on some life here', 'bring on some life here', 'undefendable the back lights', 'open back the lights', 'receptive the back lights', 'open the back lights', 'open the front lights', 'open the front illumine', 'open the front lights', 'open the visible light', 'open the lights', 'turn on the lights', 'turn on the alight', 'turn on the lights', 'turn on the lights', 'turn on the back lights', 'crook on the front lights', 'turn on the front lights', 'it dark is inside', 'it is dark inside', 'bring on lights here', 'bring on here lights some', 'work on some lights here', 'bring on some lights here', 'i need see to this', 'i involve to see this', 'i to need see this', 'i cant see the back seat', 'i cant see the back seat', 'i droped something', 'send away i droped something', 'i send away droped something', 'could you help oneself me find something', 'could you help me find uncovering something', 'could you help me find something ', 'switch on the lights', 'switch on the along lights', 'switch on the brightness', 'switch on switching the front lights', 'lights on the front switch', 'switch on the look lights', 'tack on the front lights', 'switch on the front lights', 'wake the front lights', 'spark wake the front lights', 'fire up the front lights', 'wake the front lights', 'wake the back stake lights', 'stake wake the back lights', 'wake the back ignitor', 'wake the back lights', 'wake the back lights', 'wake the lights', 'wake spark the lights', 'wake the lights', 'wake the spark', 'wake the lights', 'turn on all spark the lights', 'turn all the lights', 'turn on all the luminosity', 'along turn on all the lights', 'turn on all the lights', 'all the lights on', 'are all the sparkle on', 'are all the lights on', 'turn on gentle up wake', 'turn on gentle wake turning up', 'turn on read mode', 'turn on show mode', 'turn read on mode', 'back the shutdown lights', 'shutdown the lights', 'closedown the back lights', 'shutdown the back lights', 'shutdown the front line lights', 'shutdown spark the front lights', 'shutdown front lights', 'shutdown the front lights', 'shutdown all the lights', 'shutdown all the illuminate', 'shutdown all lights', 'shutdown all the brightness level', 'shutdown all the lights', 'turn off the back lights', 'turn off the hind lights', 'turn off the back turning lights', 'turn off the back lights ', 'turn off front the lights', 'turn off the front turning lights', 'turn off the front lights ', 'turn off all the turned lights', 'turn off all the lights', 'entirely turn off all the lights', 'turn off all the lights', 'the back lights', 'rest the back lights', 'switch off the back switching lights', 'electric switch off the back lights', 'switch off the back turned lights', 'switch off the back lights', 'switch off the back lights', 'switch turned off the front lights', 'switch off the lights', 'switch off the front lights', 'switch off all lights the', 'switch turned off all the lights', 'switch off all the lights', 'turn off read modality', 'turn off read manner mode', 'turn off read mode', 'the front lights is perturb distracting me', 'the front lights distracting', 'the front sparkle is distracting me', 'the front lights are distracting me', 'back lights bothers me', 'stake the back lights bothers me', 'the me lights bothers back', 'the back lights stake bothers me', 'the back lights bothers me', 'i am done reading', 'i am done study', 'i am done reading', 'flash spark the lights', 'the flash lights', 'flash the visible light', 'flash spark the lights', 'flash the lights ', 'spark get the lights to flash', 'get to lights the flash', 'the lights to flash', 'get the light source to flash', 'get the lights to flash', 'adjust the lights for me', 'correct the lights for me', 'adjust the lights for conform me', 'adjust the lights for me', 'change the color lights', 'change shift the lights color', 'the lights color', 'change the lights', 'change the lights color', 'is there other light color', 'is there light other color', 'is there other spark color', 'is there other light former color', 'is there other light color ', 'set the lights to default', 'set lights to default', 'set the illumination to default', 'set the lights to default', 'set spark lights to orange', 'set lights to orange', 'set brightness to orange', 'set lights spark to blue', 'plant lights to blue', 'lights to blue', 'set lights to blue', 'lights set to yellow', 'set lights to yellow', 'set spark to yellow', 'set white livered lights to yellow', 'set lights to yellow', 'set lights to cerise', 'set igniter to red', 'set lights to red', 'band set lights to green', 'to green', 'lights to green', 'lights set to green', 'set lights to green', 'set spark the front lights to val', 'lay out the front lights to val', 'set the front lights to val ', 'set spark the back lights to val', 'set the back twinkle to val', 'set the lights back to val', 'the back to val', 'set the back lights to val ', 'pose all the lights to val', 'set all the entirely lights to val', 'set all the lights to val', 'set all the val to lights', 'set all the lights to val', 'set the denisty uttermost of lights to maximum', 'set the denisty of lights to maximum', 'set the denisty of band lights to max', 'set the denisty of light to max', 'set the denisty of lights to grievous bodily harm', 'set the denisty of lights to max', 'set lights to of its spark power', 'set lights to of its superpower', 'set lights to of its power', 'set the full superpower of lights', 'set the full power of lights', 'set force the full power of lights', 'set the full power of lights', 'the denisty of lights to minimum', 'set the denisty of lights to minimum', 'set band the denisty of lights to minimum', 'set the denisty of lights to minimum', 'max the lights', 'max spark the lights', 'grievous bodily harm the lights', 'max scoop the lights', 'max the lights', 'max the lights spark denisty', 'scoop max the lights denisty', 'max the lights denisty', 'max lights the denisty', 'max the lights denisty', 'maximum possible uttermost lights', 'uttermost maximum possible lights', 'maximum potential lights', 'lights possible maximum', 'maximum possible lights', 'maximum spark lights', 'maximum lights', 'maximum fire up', 'uttermost maximum lights', 'maximum lights', 'minimal possible lights', 'lower limit possible lights', 'minimum lights possible', 'minimum possible lights', 'minimum possible lights', 'minimum illuminate', 'spark minimum lights', 'lower limit minimum lights', 'minimum lights', 'minimum lights', 'set lights to maximum', 'set lights band to maximum', 'set band lights to maximum', 'set lights to maximum', 'set to lights max', 'set lights max to', 'set lights to band max', 'set lights to spark max', 'set lights to max', 'set lights to lower limit', 'set lights minimum to', 'set lights to minimum', 'set lights to minimum', 'set lights to minimum', 'one half the lights denisty', 'denisty the lights half', 'half the luminousness denisty', 'half the lights', 'half the lights denisty', 'set lights to half the band denisty', 'lights set to half the denisty', 'set lights to one half the denisty', 'set lights to half the denisty', 'set the spark highest lights', 'set highest the lights', 'set the highest lights', 'set band the highest possible lights', 'set the highest possible band lights', 'readiness the highest possible lights', 'possible the highest set lights', 'set the highest possible lights', 'set lowest the lights', 'set the lowest lights', 'set the spark lowest lights', 'set lowest the lights', 'set the lowest lights', 'set the lowest possible potential lights', 'set the scurvy possible lights', 'set lights lowest possible the', 'set the depleted possible lights', 'set the lowest possible lights', 'get me the highest unhorse', 'get me the lights highest', 'get me become the highest lights', 'get me the highest lights', 'auto shine the car', 'shine the automobile', 'shine the car', 'shine the car', 'increase the luminosity', 'increase spark the lights', 'increase the dismount', 'the increase lights', 'increase the lights', 'increase the igniter denisty', 'increase the denisty lights', 'increase the lights', 'increase the inner light denisty', 'increase the lights denisty', 'show more than more lights', 'show more establish lights', 'more show lights', 'show more christ within', 'show more lights', 'there is not enough lights here', 'there is not non enough lights here', 'there is not enough lights here', 'more lights delight', 'more lights please', 'more lights delight please', 'more please lights', 'more lights please', 'increase the lights by per centum', 'increase the lights by percent', 'increase the lights percent', 'increase the lights by percent', 'increase the spark lights by val', 'gain the lights by val', 'increase the lights away by val', 'increase the lights by val ', 'it is too dark', 'dismal it is too dark', 'increase the front lights', 'increase growth the front lights', 'front the increase lights', 'increase the growth front lights', 'increase the front lights', 'increase the back spark lights', 'back the increase lights', 'increase the back lights', 'increase spark the back lights', 'increase the back lights', 'decrease lights', 'decrease the lights', 'minify the lights', 'decrease the denisty lights', 'decrease the light', 'fall the lights denisty', 'lights the decrease denisty', 'decrease the lights denisty', 'decrease lights by percent', 'decrease lights pct by percent', 'diminish lights by percent', 'decrease lights by percent', 'less show lights', 'show less ignitor', 'show lights less', 'show less lights', 'too much lights here', 'too a great deal lights here', 'too much also lights here', 'here much lights too', 'lights the dim for me please', 'delight dim the lights for me please', 'dim the lights for me delight', 'dim the luminousness for me please', 'dim the lights for me', 'could you decrese the perch', 'could you decrese the lights', 'could you decrese the light', 'it is listening too shiny', 'it is too listening', 'it is too shiny', 'ignitor are burning my eyes', 'lights my burning are eyes', 'lights are burning my eyes', 'there is not too equal much lights here', 'less please lights', 'lupus erythematosus lights please', 'delight less lights please', 'lights please', 'less lights please', 'decrease spark the lights by val', 'decrease the lights val by', 'step down the lights by val', 'diminish the lights by val', 'decrease the lights by val ', 'dim front the lights', 'dim front lights', 'dimmed the front lights', 'dim the lights', 'dim the stake back lights', 'dim the back obtuse lights', 'dull the back lights', 'dim the support lights', 'dim the back lights', 'decrease front lights by percent', 'decrease front lights percent', 'by front lights decrease percent', 'decrease front lights by percent', 'diminution back lights by percent', 'decrease back step down lights by percent', 'decrease back lights by percent', 'less lights of the front spark lights', 'less lights of the face lights', 'less lights of front lights', 'less lights of the front lights', 'lights of the back lights', 'stake less lights of the back lights', 'less stake lights of the back lights', 'less lights of the back lights', 'on the radio', 'turn on the wireless radio', 'on the radio', 'turn on the radio', 'on radio', 'wireless radio on', 'radio wireless on', 'radio set on', 'radio on', 'turn along the radio on', 'turn the wireless radio on', 'turn the radio on', 'play the radio', 'play the radiocommunication', 'play the wireless radio', 'play the radio', 'play diddle radio', 'play radio', 'radio play', 'play radio', 'listen to the radio', 'listen to the mind radio', 'listen to the wireless', 'radio resume', 'resume radio', 'resume summarise radio', 'resume radio', 'resume', 'summarise resume', 'play off the radio', 'off the radio', 'turn off the radio', 'radio off', 'wireless radio off', 'wireless turn the radio off', 'bit the radio off', 'the turn radio off', 'turn the radio off', 'pause', 'interruption pause', 'pause', 'pause the radio', 'the pause radio', 'suspension the radio', 'pause the radio', 'full stop stop', 'stop', 'stop the radio', 'full stop stop the radio', 'halt the radio', 'stop full stop the radio', 'channel next radio', 'radio next channel', 'change the radio receiver channel', 'interchange the radio channel', 'change the radio channel', 'exchange the radio', 'shift change the radio', 'change the radio', 'change the radio', 'next television channel radio channel', 'next channel', 'next radio channel', 'channel next', 'adjacent channel', 'next channel', 'change channel', 'shift change channel', 'channel change', 'change channel', 'channel up', 'up channel', 'channel up', 'radio channel up', 'receiving set channel up', 'radio impart up', 'radio channel up', 'channel previous radio', 'radio previous impart', 'previous radio channel', 'radio set previous channel', 'radio previous channel', 'radio television channel last channel', 'channel last radio', 'radio lowest channel', 'radio last channel', 'previous channel radio', 'former radio channel', 'previous channel', 'previous radio channel', 'former channel', 'previous channel', 'channel previous', 'previous channel', 'channel mastered down', 'carry down', 'transmit down', 'channel down', 'radio down channel', 'channel radio down', 'wireless radio channel down', 'radio channel down', 'radio channel down', 'wireless change radio to fm', 'change radio to fm', 'frequency modulation fm', 'fm', 'ef em', 'change radio to am', 'change radio to equal am', 'change radio am', 'am radio to change', 'change radio to am', 'a em', 'am', 'on turn the news', 'turn on the newsworthiness', 'wrick on the news', 'what are today news', 'what are todays intelligence', 'what are todays intelligence news', 'what are todays news ', 'news', 'radio news program', 'radio news show', 'news radio', 'radio news', 'turn on music instrumentalist player', 'turn on player', 'on turn music player', 'instrumentalist turn on music player', 'turn on music player', 'turn on the euphony', 'turn on the music', 'on music', 'music on', 'euphony on', 'celine dion', 'celine', 'phil collins', 'collins phil', 'phil collins', 'player', 'turn instrumentalist on the mp player', 'change state on the mp player', 'turn on the mp player', 'pause', 'intermit', 'interruption pause', 'pause', 'full stop', 'full stop stop', 'stop', 'stop the music', 'stop the euphony', 'stop music', 'stop the music', 'turn of the medicine player', 'bend of the music player', 'the of turn music player', 'turn of the music player', 'turn of the music player', 'music turned player off', 'instrumentalist music player off', 'player music off', 'euphony player off', 'music player off', 'turn off the mp player', 'turn instrumentalist off the mp player', 'plow off the mp player', 'turn off the mp player', 'military police player off', 'instrumentalist mp player off', 'mp role player off', 'mp player off', 'show me the news', 'say me the news', 'read me the news', 'read me a leger', 'read me a book', 'search for devices', 'search for device devices', 'look for devices', 'hunt for devices', 'search for devices', 'line up the seat front', 'adjust the posterior seat front', 'adjust the posterior seat front', 'the seat front', 'adjust the seat front', 'seat front', 'seat movement up', 'seat front', 'adjust the conform seat front', 'adjust the seat front', 'ahead straihgt seat', 'seat straihgt ahead', 'seat ahead straihgt', 'seat straihgt ahead ', 'set my seat to the front', 'adjust my seat conform to the front', 'my seat to the front', 'adjust my seat to the front', 'straight my seat adjust ahead', 'adjust my seat straight ahead', 'adjust the conform seat backwards', 'adjust the seat backwards', 'seat stake back', 'seat back', 'adjust the posterior seat back', 'adjust the conform seat back', 'adjust the seat back', 'seat posterior rearwards', 'seat back rearwards', 'rearwards seat', 'seat rearwards', 'my seat back', 'adjust my seat back', 'adjust my posterior seat rearwards', 'adjust my seat rearwards', 'my ass degree is low', 'my seat is low', 'my seat degree is low', 'high pitched the seat degree', 'gamey the seat degree', 'higher the posterior seat degree', 'higher the seat degree', 'establish make my seat warmer', 'stool my seat warmer', 'make my seat warmer', 'posterior warm up my seat', 'warm up my seat', 'my seat degree is heights', 'my buttocks degree is high', 'my seat degree is high', 'lower the degree seat', 'lower the seat degree', 'lower the seat degree', 'induce my seat', 'make my seat cooler', 'cool up aplomb my seat', 'cool up my seat', 'chill up my seat', 'seat music on', 'seat euphony on', 'seat posterior music on', 'on headset seat', 'headset seat on', 'seat headset on', 'ass headset on', 'seat headset on', 'music seat off', 'seat music off', 'seat headset off', 'seat headset turned off', 'headset seat off', 'seat headset off', 'level gas', 'gas plane level', 'gas vaunt level', 'boast level', 'gas level ', 'do i vaunt need more gas', 'do i need more gas', 'should i stop place at the gas station', 'should i stop at the gas station', 'should i at the gas station', 'should i stop at the gas station', 'express what is the gas state', 'gas is the what state', 'what the is gas state', 'what is the gas state', 'can i make it to the name and address', 'can i finish make it to the destination', 'can i make it the destination', 'can i make it to the name and address', 'can i make it to the destination', 'how much left in tank', 'how much in the tank', 'how much left in the tank', 'is the tank full', 'is the tank good', 'is the tank low', 'is the tank low ', 'how far can i go ', 'what is the tank car level', 'what is the tank point', 'what is tank the level', 'what is the tank level', 'does the car need fuel', 'does the car indigence fuel', 'auto does the car need fuel', 'what is the locomotive state', 'what is the state engine', 'what is the engine state', 'what is the engine state', 'what is the motor state', 'what state the motor is', 'what is the motor state', 'drive what is the motor state', 'what is the locomotive engine tempreture', 'what is the locomotive tempreture', 'what is the engine tempreture', 'what is engines heat', 'what is the locomotive engines heat', 'what is the engines heat', 'is the engine ok', 'is the engine ok', 'is the engine okey', 'is the motor blistering', 'the is motor hot', 'is the motor hot', 'is the motor hot', 'is the engine overheat', 'is the engine overheating', 'is engine overheating', 'how car the is doing', 'how is the car doing', 'how is manage the car doing', 'how is the cable car doing', 'how is the car doing', 'what is the car express state', 'what is the car state', 'what car the is state', 'what is the car province', 'what is the car state', 'auto what is the car tempreture', 'what is the auto tempreture', 'what is the equal car tempreture', 'what is the car tempreture', 'is overheating car the', 'is the automobile overheating', 'the is car overheating', 'it is sunny how is the car doing', 'it is cheery how is the car doing', 'it is sunny how auto is the car doing', 'it is sunny how is the car doing', 'manage it is raining how is the car doing', 'it is doing how is the car raining', 'it is raining how is the gondola doing', 'it is raining how is the car doing', 'the is how radiator doing', 'manage how is the radiator doing', 'how is the radiator manage doing', 'how is the radiator doing', 'is the blistering radiator hot', 'is the radiator red hot', 'is the radiator spicy', 'is the radiator hot', 'is the radiator hot', 'going i am too fast', 'am i going fast', 'am going i too fast', 'revolutions per minute what is the rpm', 'what is revolutions per minute the rpm', 'what is the revolutions per minute', 'what is the rev', 'what is the rpm', 'am i going too retard', 'am i too slow', 'am i going too slow', 'how fast am i going', 'how fast am equal i going', 'how fast am i going', 'how fast am i going', 'what auto is the car speed', 'car is the what speed', 'what is the car speed', 'how fast the motor is running', 'drive how fast the motor is running', 'is the engine fast too', 'is tight the engine too fast', 'is the engine too immobile', 'is the engine too fast', 'is the car balanced', 'is the machine balanced', 'is the car balanced ', 'are pedal the wheels ok', 'are the roll ok', 'are the wheels ok', 'are doors the all closed', 'are all the doors equal closed', 'are all the doors conclude', 'are equal all the doors closed', 'are all the doors closed', 'are the care equilibrate wheels balanced', 'are pedal the care wheels balanced', 'are the care wheels balanced', 'is sloping car the', 'is the car sloping', 'is the cable car sloping', 'is the point wheel balanced', 'is the steering wheel manoeuver balanced', 'is the steering wheel manoeuver balanced', 'is the steering wheel balanced', 'is the air fillter ok', 'snug the window', 'close the window', 'close the windowpane window', 'windows snug close', 'windows close', 'window close', 'snug windows close', 'windows close', 'windows the turn up', 'turn the windows up', 'turn the windows gamey', 'turn windows the highest', 'turn the windows highest', 'close my window', 'windowpane close my window', 'come together my window', 'close my window', 'faithful the back windows', 'close the bet on windows', 'close the back wndows', 'close the stake back windows', 'close the back windows', 'close the front windows', 'windows the front close', 'close the front windows', 'fold the front windows', 'close the front windows', 'close the right window', 'tight the right window', 'close the right window', 'close the snug back right window', 'last the back right window', 'close the back right window', 'snug close the left window', 'window the left close', 'close the windowpane left window', 'close the left over window', 'close the left window', 'clsoe the backwards left window', 'windowpane clsoe the back left window', 'clsoe the back left window', 'open exposed the window', 'unfold the window', 'open the windowpane', 'windowpane open the window', 'open the window', 'windows open', 'windowpane open', 'windows open', 'turn the windows down', 'turn the window down', 'turn the windowpane windows down', 'turn the windows down', 'turn the windos lowesr', 'turning turn thw windos lower', 'turn the windos lower', 'open my windowpane', 'open my windowpane window', 'open my window', 'open my exposed window', 'open my window', 'open back the windows', 'open the back stake windows', 'heart to heart the back windows', 'open the back wondows', 'open front the windows', 'open the front exposed windows', 'spread out the front windows', 'open the strawman windows', 'open the front windows', 'windowpane open the right window', 'the open right window', 'open right the window', 'open the right windowpane', 'open the right window', 'open the back right windowpane', 'open the back right window', 'open the right back window', 'open the back right window', 'open air the left window', 'open the left exposed window', 'open the left window', 'open the back left window', 'left the back open window', 'open the window left back', 'open the back left window', 'crack the window receptive', 'crack the window open', 'crack the window open air', 'open the window crack', 'crack the window open', 'little small carck window', 'small window carck', 'small carck window', 'small carck windowpane', 'small carck window', 'fissure crack windows', 'snap windows', 'windowpane crack windows', 'crack windows', 'windowpane crack my window', 'windowpane crack my window', 'crack my window', 'crack my window', 'crack back the windows', 'crack the bet on windows', 'crack the back stake windows', 'crack the windows', 'crack the back windows', 'crack the front windowpane windows', 'fracture the front windows', 'crack the front windows', 'crack the front windows', 'crack the window right', 'crack flop the right window', 'crack the right window', 'crack the right window', 'crack the back right flop window', 'crack the back right', 'back the crack right window', 'crack the plump for right window', 'crack the back right window', 'crack left the window', 'crack the leftfield window', 'crack the left window', 'crack cocaine the left window', 'crack the left window', 'crack the back up left window', 'crack the left back window', 'wisecrack the back left window', 'crack the back stake left window', 'crack the back left window', '', 'higher the windowpane', 'the higher windows', 'gamy higher the windows', 'higher the windows', 'windows higher', 'windows gamy higher', 'windows higher', 'windowpane up a notch', 'windows up a notch', 'up the a notch', 'up the windows a notch', 'highten windowpane my window', 'highten my windowpane', 'highten windowpane my window', 'highten my window', '', 'high the back windows', 'mellow the back windows', 'higher the back wondows', 'gamy higher the front windows', 'higher the front windows', 'higher the front line windows', 'higher the front windows', 'higher the gamy right window', 'gamy higher the right window', 'higher the right window', 'higher the rectify window', 'higher the right window', 'higher the second right window', 'higher back right window', 'higher the back right window', 'entrust higher the left window', 'higher the left window', 'higher the pass on window', 'higher the left windowpane', 'higher the left window', 'higher the back gamy left window', 'the higher back left window', 'left the back higher window', 'higher the back left window', 'windowpane lower the windows', 'lower windows the', 'lower the windowpane', 'lower windowpane the windows', 'lower the windows', 'depleted windows lower', 'windows lower', 'window lower', 'nick windows down a notch', 'windows a notch', 'windows windowpane down a notch', 'window down a notch', 'windows down a notch', 'down the angstrom unit windows a notch', 'down the windows a windowpane notch', 'down the windows a notch', 'my lower window', 'my lower window', 'lower my window', 'stake lower the back wondows', 'the lower back wondows', 'lower back wondows', 'broken the back wondows', 'lower the back wondows', 'lower the windowpane front windows', 'lower the front windowpane', 'lower the front windows', 'lower the decent window', 'lower the right window', 'lower the right windowpane', 'lower the right window', 'lower the back right window', 'lower the depleted back right window', 'back the lower right window', 'lower the flop back right window', 'lower the back right window', 'lower the window left', 'lower the forget window', 'lower the left windowpane window', 'lower the left window', 'lower the left window', 'lower stake the back left window', 'lower the back leftover window', 'lower the back left window', 'lower window back left the', 'lower the back left window', 'it rain is raining', 'it is rain down', 'raining is it', 'it is raining', 'clean the glass', 'turn on the wipers', 'turn on the turning wipers', 'release on the wipers', 'turn on the wiper', 'turn on the wipers', 'turn off the wiper', 'release off the wipers', 'turn off the wipers ', 'there is dust use windscreen wiper to clean it', 'there is dust use function wipers to clean it', 'there is dust use wipers to clean', 'there is dust use wipers to clean it', 'it is snowy', 'it is raining turn on along the wipers', 'it is raining turn on the wipers']\n"
          ],
          "name": "stdout"
        }
      ]
    },
    {
      "cell_type": "code",
      "metadata": {
        "id": "-sI0wDfcZZpV",
        "colab_type": "code",
        "colab": {}
      },
      "source": [
        "# filter out stop words\n",
        "from nltk.corpus import stopwords\n",
        "stop_words = set(stopwords.words('english'))\n",
        "fuck = []\n",
        "sente = ''\n",
        "for sen in sentences:\n",
        "  for word in sen.split(' '):\n",
        "    if not word in stop_words:\n",
        "      sente += word + ' '\n",
        "  fuck.append(sente)\n",
        "  sente = ''\n",
        "final = [q[:-1] for q in fuck]"
      ],
      "execution_count": 0,
      "outputs": []
    },
    {
      "cell_type": "code",
      "metadata": {
        "id": "6KVw58oHfXOj",
        "colab_type": "code",
        "outputId": "ed1d9d96-5d61-4fe4-b55c-e23f60360747",
        "colab": {
          "base_uri": "https://localhost:8080/",
          "height": 271
        }
      },
      "source": [
        "from pandas import DataFrame\n",
        "\n",
        "df = DataFrame (final,columns=['cleaned'])\n",
        "print(df)"
      ],
      "execution_count": 0,
      "outputs": [
        {
          "output_type": "stream",
          "text": [
            "                           cleaned\n",
            "0             open air conditioner\n",
            "1            open vent conditioner\n",
            "2             open air conditioner\n",
            "3     open air exposed conditioner\n",
            "4            open air conditioner \n",
            "...                            ...\n",
            "1552         dust use wipers clean\n",
            "1553         dust use wipers clean\n",
            "1554                         snowy\n",
            "1555     raining turn along wipers\n",
            "1556           raining turn wipers\n",
            "\n",
            "[1557 rows x 1 columns]\n"
          ],
          "name": "stdout"
        }
      ]
    },
    {
      "cell_type": "code",
      "metadata": {
        "id": "DfhvpVThgr4-",
        "colab_type": "code",
        "colab": {}
      },
      "source": [
        "df.to_csv(r'q.csv', index = False)"
      ],
      "execution_count": 0,
      "outputs": []
    },
    {
      "cell_type": "markdown",
      "metadata": {
        "id": "aIRBokqoWRKG",
        "colab_type": "text"
      },
      "source": [
        "## **Clasiification**"
      ]
    },
    {
      "cell_type": "code",
      "metadata": {
        "id": "Ao68bgBwNIKm",
        "colab_type": "code",
        "colab": {}
      },
      "source": [
        "import json as j\n",
        "import pandas as pd\n",
        "import re\n",
        "import matplotlib.pyplot as plt\n",
        "import numpy as np\n",
        "from nltk.corpus import stopwords\n",
        "from nltk.stem import SnowballStemmer\n",
        "from sklearn.feature_extraction.text import TfidfVectorizer\n",
        "from sklearn.svm import LinearSVC\n",
        "from sklearn.pipeline import Pipeline\n",
        "from sklearn.model_selection import train_test_split\n",
        "from sklearn.feature_selection import SelectKBest, chi2"
      ],
      "execution_count": 0,
      "outputs": []
    },
    {
      "cell_type": "code",
      "metadata": {
        "id": "gqFjoG44Nz3k",
        "colab_type": "code",
        "outputId": "364a8103-d9bf-4da8-8e40-9bfc3c6a51fd",
        "colab": {
          "base_uri": "https://localhost:8080/",
          "height": 74
        }
      },
      "source": [
        "import nltk\n",
        "nltk.download('stopwords')"
      ],
      "execution_count": 0,
      "outputs": [
        {
          "output_type": "stream",
          "text": [
            "[nltk_data] Downloading package stopwords to /root/nltk_data...\n",
            "[nltk_data]   Unzipping corpora/stopwords.zip.\n"
          ],
          "name": "stdout"
        },
        {
          "output_type": "execute_result",
          "data": {
            "text/plain": [
              "True"
            ]
          },
          "metadata": {
            "tags": []
          },
          "execution_count": 2
        }
      ]
    },
    {
      "cell_type": "code",
      "metadata": {
        "id": "X05FRPrimAto",
        "colab_type": "code",
        "colab": {}
      },
      "source": [
        "with open('/content/commands.json') as json_file:\n",
        "    itemData = j.load(json_file)"
      ],
      "execution_count": 0,
      "outputs": []
    },
    {
      "cell_type": "code",
      "metadata": {
        "id": "M2b_bnHANn9F",
        "colab_type": "code",
        "colab": {}
      },
      "source": [
        "data = pd.DataFrame(itemData)"
      ],
      "execution_count": 0,
      "outputs": []
    },
    {
      "cell_type": "code",
      "metadata": {
        "id": "fMr729EYPXtv",
        "colab_type": "code",
        "outputId": "e384999d-e50a-4bff-f0ac-3b44e35d63d7",
        "colab": {
          "base_uri": "https://localhost:8080/",
          "height": 206
        }
      },
      "source": [
        "data[0:5]"
      ],
      "execution_count": 0,
      "outputs": [
        {
          "output_type": "execute_result",
          "data": {
            "text/html": [
              "<div>\n",
              "<style scoped>\n",
              "    .dataframe tbody tr th:only-of-type {\n",
              "        vertical-align: middle;\n",
              "    }\n",
              "\n",
              "    .dataframe tbody tr th {\n",
              "        vertical-align: top;\n",
              "    }\n",
              "\n",
              "    .dataframe thead th {\n",
              "        text-align: right;\n",
              "    }\n",
              "</style>\n",
              "<table border=\"1\" class=\"dataframe\">\n",
              "  <thead>\n",
              "    <tr style=\"text-align: right;\">\n",
              "      <th></th>\n",
              "      <th>stars</th>\n",
              "      <th>text</th>\n",
              "      <th>cleaned</th>\n",
              "    </tr>\n",
              "  </thead>\n",
              "  <tbody>\n",
              "    <tr>\n",
              "      <th>0</th>\n",
              "      <td>ac</td>\n",
              "      <td>open air conditioner</td>\n",
              "      <td>open air conditioner</td>\n",
              "    </tr>\n",
              "    <tr>\n",
              "      <th>1</th>\n",
              "      <td>ac</td>\n",
              "      <td>open the vent conditioner</td>\n",
              "      <td>open vent conditioner</td>\n",
              "    </tr>\n",
              "    <tr>\n",
              "      <th>2</th>\n",
              "      <td>ac</td>\n",
              "      <td>the open air conditioner</td>\n",
              "      <td>open air conditioner</td>\n",
              "    </tr>\n",
              "    <tr>\n",
              "      <th>3</th>\n",
              "      <td>ac</td>\n",
              "      <td>open the air exposed conditioner</td>\n",
              "      <td>open air exposed conditioner</td>\n",
              "    </tr>\n",
              "    <tr>\n",
              "      <th>4</th>\n",
              "      <td>ac</td>\n",
              "      <td>open the air conditioner</td>\n",
              "      <td>open air conditioner</td>\n",
              "    </tr>\n",
              "  </tbody>\n",
              "</table>\n",
              "</div>"
            ],
            "text/plain": [
              "  stars                              text                       cleaned\n",
              "0    ac              open air conditioner          open air conditioner\n",
              "1    ac         open the vent conditioner         open vent conditioner\n",
              "2    ac          the open air conditioner          open air conditioner\n",
              "3    ac  open the air exposed conditioner  open air exposed conditioner\n",
              "4    ac          open the air conditioner          open air conditioner"
            ]
          },
          "metadata": {
            "tags": []
          },
          "execution_count": 6
        }
      ]
    },
    {
      "cell_type": "code",
      "metadata": {
        "id": "M5sKQ7taNqbO",
        "colab_type": "code",
        "colab": {}
      },
      "source": [
        "stemmer = SnowballStemmer('english')\n",
        "words = stopwords.words(\"english\")"
      ],
      "execution_count": 0,
      "outputs": []
    },
    {
      "cell_type": "code",
      "metadata": {
        "id": "M-kpaBJCNsL5",
        "colab_type": "code",
        "colab": {}
      },
      "source": [
        "data['cleaned'] = data['text'].apply(lambda x: \" \".join([stemmer.stem(i) for i in re.sub(\"[^a-zA-Z]\", \" \", x).split() if i not in words]).lower())"
      ],
      "execution_count": 0,
      "outputs": []
    },
    {
      "cell_type": "code",
      "metadata": {
        "id": "DYVmXsSMnKbp",
        "colab_type": "code",
        "outputId": "46ec0c81-0845-481b-ed0f-a8ed183c2b9e",
        "colab": {
          "base_uri": "https://localhost:8080/",
          "height": 206
        }
      },
      "source": [
        "data[0:5]"
      ],
      "execution_count": 0,
      "outputs": [
        {
          "output_type": "execute_result",
          "data": {
            "text/html": [
              "<div>\n",
              "<style scoped>\n",
              "    .dataframe tbody tr th:only-of-type {\n",
              "        vertical-align: middle;\n",
              "    }\n",
              "\n",
              "    .dataframe tbody tr th {\n",
              "        vertical-align: top;\n",
              "    }\n",
              "\n",
              "    .dataframe thead th {\n",
              "        text-align: right;\n",
              "    }\n",
              "</style>\n",
              "<table border=\"1\" class=\"dataframe\">\n",
              "  <thead>\n",
              "    <tr style=\"text-align: right;\">\n",
              "      <th></th>\n",
              "      <th>stars</th>\n",
              "      <th>text</th>\n",
              "      <th>cleaned</th>\n",
              "    </tr>\n",
              "  </thead>\n",
              "  <tbody>\n",
              "    <tr>\n",
              "      <th>0</th>\n",
              "      <td>ac</td>\n",
              "      <td>open air conditioner</td>\n",
              "      <td>open air condition</td>\n",
              "    </tr>\n",
              "    <tr>\n",
              "      <th>1</th>\n",
              "      <td>ac</td>\n",
              "      <td>open the vent conditioner</td>\n",
              "      <td>open vent condition</td>\n",
              "    </tr>\n",
              "    <tr>\n",
              "      <th>2</th>\n",
              "      <td>ac</td>\n",
              "      <td>the open air conditioner</td>\n",
              "      <td>open air condition</td>\n",
              "    </tr>\n",
              "    <tr>\n",
              "      <th>3</th>\n",
              "      <td>ac</td>\n",
              "      <td>open the air exposed conditioner</td>\n",
              "      <td>open air expos condition</td>\n",
              "    </tr>\n",
              "    <tr>\n",
              "      <th>4</th>\n",
              "      <td>ac</td>\n",
              "      <td>open the air conditioner</td>\n",
              "      <td>open air condition</td>\n",
              "    </tr>\n",
              "  </tbody>\n",
              "</table>\n",
              "</div>"
            ],
            "text/plain": [
              "  stars                              text                   cleaned\n",
              "0    ac              open air conditioner        open air condition\n",
              "1    ac         open the vent conditioner       open vent condition\n",
              "2    ac          the open air conditioner        open air condition\n",
              "3    ac  open the air exposed conditioner  open air expos condition\n",
              "4    ac          open the air conditioner        open air condition"
            ]
          },
          "metadata": {
            "tags": []
          },
          "execution_count": 9
        }
      ]
    },
    {
      "cell_type": "code",
      "metadata": {
        "id": "ZPbZugahN_-3",
        "colab_type": "code",
        "colab": {}
      },
      "source": [
        "X_train, X_test, y_train, y_test = train_test_split(data['cleaned'], data.stars, test_size=0.2)"
      ],
      "execution_count": 0,
      "outputs": []
    },
    {
      "cell_type": "code",
      "metadata": {
        "id": "IfMCV8cAOCRA",
        "colab_type": "code",
        "colab": {}
      },
      "source": [
        "pipeline = Pipeline([('vect', TfidfVectorizer(ngram_range=(1, 2), stop_words=\"english\", sublinear_tf=True)),\n",
        "                     ('chi',  SelectKBest(chi2, k='all')),\n",
        "                     ('clf', LinearSVC(C=1.0, penalty='l1', max_iter=3000, dual=False))])"
      ],
      "execution_count": 0,
      "outputs": []
    },
    {
      "cell_type": "code",
      "metadata": {
        "id": "PsxcTXviOFcE",
        "colab_type": "code",
        "colab": {}
      },
      "source": [
        "model = pipeline.fit(X_train, y_train)"
      ],
      "execution_count": 0,
      "outputs": []
    },
    {
      "cell_type": "code",
      "metadata": {
        "id": "miciOqtBOG6S",
        "colab_type": "code",
        "colab": {}
      },
      "source": [
        "vectorizer = model.named_steps['vect']\n",
        "chi = model.named_steps['chi']\n",
        "clf = model.named_steps['clf']"
      ],
      "execution_count": 0,
      "outputs": []
    },
    {
      "cell_type": "code",
      "metadata": {
        "id": "9ps-pmpiOJAH",
        "colab_type": "code",
        "colab": {}
      },
      "source": [
        "feature_names = vectorizer.get_feature_names()\n",
        "feature_names = [feature_names[i] for i in chi.get_support(indices=True)]\n",
        "feature_names = np.asarray(feature_names)"
      ],
      "execution_count": 0,
      "outputs": []
    },
    {
      "cell_type": "code",
      "metadata": {
        "id": "bAt_dMxTOKjC",
        "colab_type": "code",
        "outputId": "afacc82c-596b-495c-83ca-fab5490ee2d5",
        "colab": {
          "base_uri": "https://localhost:8080/",
          "height": 300
        }
      },
      "source": [
        "target_names = list(set(data['stars']))\n",
        "print(\"top 10 keywords per class:\")\n",
        "for i, label in enumerate(target_names):\n",
        "    top10 = np.argsort(clf.coef_[i])[-10:]\n",
        "    print(\"%s: %s\" % (label, \" \".join(feature_names[top10])))"
      ],
      "execution_count": 0,
      "outputs": [
        {
          "output_type": "stream",
          "text": [
            "top 10 keywords per class:\n",
            "ac: music fm phil paus em celin today channel player radio\n",
            "window: degre make cool speed heat cold tempretur temperatur loung condition\n",
            "lights: help oneself help height heat heart window heart heart heart hide yellow mirror\n",
            "wipers: stupid stun mystifi sassi quiz smart puzzl good help joke laugh\n",
            "connect: help oneself help height heat heart window heart heart heart headset seat yellow bluetooth\n",
            "read: help uncov help oneself help height heat heart window heart heart headset turn yellow connect\n",
            "answer: global posit restur light mode pin rate navig updat check gps loc\n",
            "seat: turn read spark luminos ignit bright lumin illumin shine someth light\n",
            "bluetooth: headset seat headset height read read leger say news say news read news leger\n",
            "gps: help oneself help height heat heart window heart heart hide gas yellow search devic devic\n",
            "Radio: conform seat rearward adjust seat buttock degre posterior make seat seat degre headset ahead seat\n",
            "state: fast ok level motor door tank balanc radiat engin car\n",
            "search: wndow windo lower right turn thw crack right close wndow notch wondow windowpan window\n",
            "adjust: help height heat heart window hide yellow snowi rain clean wiper\n"
          ],
          "name": "stdout"
        }
      ]
    },
    {
      "cell_type": "code",
      "metadata": {
        "id": "RVBmyx3hqMV5",
        "colab_type": "code",
        "colab": {}
      },
      "source": [
        "y_pred = model.predict(X_test)"
      ],
      "execution_count": 0,
      "outputs": []
    },
    {
      "cell_type": "code",
      "metadata": {
        "id": "4pEjL93ltOcH",
        "colab_type": "code",
        "outputId": "a7a67f7c-9b84-4ead-b418-3149dae525d4",
        "colab": {
          "base_uri": "https://localhost:8080/",
          "height": 413
        }
      },
      "source": [
        "from sklearn.metrics import classification_report\n",
        "report = classification_report(list(y_test), list(y_pred), labels=list(set(data['stars'])), zero_division =1)\n",
        "print(report)"
      ],
      "execution_count": 0,
      "outputs": [
        {
          "output_type": "stream",
          "text": [
            "              precision    recall  f1-score   support\n",
            "\n",
            "          ac       0.92      1.00      0.96        44\n",
            "      window       1.00      0.97      0.99        40\n",
            "      lights       0.96      0.97      0.96        70\n",
            "      wipers       1.00      1.00      1.00         3\n",
            "     connect       1.00      1.00      1.00         1\n",
            "        read       1.00      0.00      0.00         1\n",
            "      answer       1.00      0.80      0.89         5\n",
            "        seat       1.00      0.94      0.97        16\n",
            "   bluetooth       1.00      1.00      1.00         0\n",
            "         gps       0.89      0.98      0.93        64\n",
            "       Radio       1.00      0.97      0.99        37\n",
            "       state       1.00      0.75      0.86        28\n",
            "      search       1.00      1.00      1.00         1\n",
            "      adjust       1.00      1.00      1.00         2\n",
            "\n",
            "   micro avg       0.95      0.95      0.95       312\n",
            "   macro avg       0.98      0.89      0.90       312\n",
            "weighted avg       0.96      0.95      0.95       312\n",
            "\n"
          ],
          "name": "stdout"
        }
      ]
    },
    {
      "cell_type": "code",
      "metadata": {
        "id": "GXmco8tZxM6p",
        "colab_type": "code",
        "outputId": "de2374ff-4bc7-4d57-dbe6-b20f02373d60",
        "colab": {
          "base_uri": "https://localhost:8080/",
          "height": 485
        }
      },
      "source": [
        "import seaborn as sn\n",
        "import pandas as pd\n",
        "from sklearn.metrics import confusion_matrix\n",
        "\n",
        "matrix = confusion_matrix(list(y_test), list(y_pred), labels= list(set(data['stars'])))\n",
        "\n",
        "df_cm = pd.DataFrame(matrix,index = [i for i in (list(set(data['stars'])))],columns = [i for i in list(set(data['stars']))])\n",
        "plt.figure(figsize = (9,7))\n",
        "sn.heatmap(df_cm, annot=True)"
      ],
      "execution_count": 0,
      "outputs": [
        {
          "output_type": "execute_result",
          "data": {
            "text/plain": [
              "<matplotlib.axes._subplots.AxesSubplot at 0x7f065db599e8>"
            ]
          },
          "metadata": {
            "tags": []
          },
          "execution_count": 20
        },
        {
          "output_type": "display_data",
          "data": {
            "image/png": "[encoded data removed]",
            "text/plain": [
              "<Figure size 648x504 with 2 Axes>"
            ]
          },
          "metadata": {
            "tags": [],
            "needs_background": "light"
          }
        }
      ]
    },
    {
      "cell_type": "code",
      "metadata": {
        "id": "2XueGKB7trzC",
        "colab_type": "code",
        "outputId": "7d5faa3c-f951-423d-b571-81fb7231bf2a",
        "colab": {
          "base_uri": "https://localhost:8080/",
          "height": 36
        }
      },
      "source": [
        "from sklearn.metrics import accuracy_score\n",
        "print(\"accuracy score: \" + str(accuracy_score(list(y_test), list(y_pred))*100))"
      ],
      "execution_count": 0,
      "outputs": [
        {
          "output_type": "stream",
          "text": [
            "accuracy score: 95.1923076923077\n"
          ],
          "name": "stdout"
        }
      ]
    },
    {
      "cell_type": "code",
      "metadata": {
        "id": "_idfvDrqONAA",
        "colab_type": "code",
        "outputId": "c233b23e-045b-44e3-ad08-971a25963445",
        "colab": {
          "base_uri": "https://localhost:8080/",
          "height": 36
        }
      },
      "source": [
        "print(\"accuracy score: \" + str(model.score(X_test, y_test)*100))"
      ],
      "execution_count": 0,
      "outputs": [
        {
          "output_type": "stream",
          "text": [
            "accuracy score: 95.1923076923077\n"
          ],
          "name": "stdout"
        }
      ]
    },
    {
      "cell_type": "code",
      "metadata": {
        "id": "LmZ2FPhIOOgn",
        "colab_type": "code",
        "outputId": "13e49afd-1a91-444f-bdd7-cd8072868b77",
        "colab": {
          "base_uri": "https://localhost:8080/",
          "height": 36
        }
      },
      "source": [
        "print(model.predict(['that was an awesome place']))"
      ],
      "execution_count": 0,
      "outputs": [
        {
          "output_type": "stream",
          "text": [
            "['gps']\n"
          ],
          "name": "stdout"
        }
      ]
    },
    {
      "cell_type": "code",
      "metadata": {
        "id": "Yr9lui2lOP6v",
        "colab_type": "code",
        "outputId": "9203cec0-0ba4-41d2-ae61-a34d63d92457",
        "colab": {
          "base_uri": "https://localhost:8080/",
          "height": 36
        }
      },
      "source": [
        "print(model.predict(['there is dust use function wipers to clean it']))"
      ],
      "execution_count": 0,
      "outputs": [
        {
          "output_type": "stream",
          "text": [
            "['wipers']\n"
          ],
          "name": "stdout"
        }
      ]
    },
    {
      "cell_type": "code",
      "metadata": {
        "id": "RPstsuY5oloY",
        "colab_type": "code",
        "outputId": "8a58b65c-0b9d-4ad5-ffc0-80fa8005b873",
        "colab": {
          "base_uri": "https://localhost:8080/",
          "height": 36
        }
      },
      "source": [
        "print(model.predict(['turn on the lights']))"
      ],
      "execution_count": 0,
      "outputs": [
        {
          "output_type": "stream",
          "text": [
            "['lights']\n"
          ],
          "name": "stdout"
        }
      ]
    },
    {
      "cell_type": "code",
      "metadata": {
        "id": "J2cEJJDpze2z",
        "colab_type": "code",
        "outputId": "7d77976c-8d88-42a5-d54d-893c115444bc",
        "colab": {
          "base_uri": "https://localhost:8080/",
          "height": 36
        }
      },
      "source": [
        "print(model.predict(['turn on music']))"
      ],
      "execution_count": 0,
      "outputs": [
        {
          "output_type": "stream",
          "text": [
            "['Radio']\n"
          ],
          "name": "stdout"
        }
      ]
    },
    {
      "cell_type": "code",
      "metadata": {
        "id": "4olX7hPPzj-A",
        "colab_type": "code",
        "outputId": "953f9c1a-9f19-476e-ce90-594c46073bc4",
        "colab": {
          "base_uri": "https://localhost:8080/",
          "height": 36
        }
      },
      "source": [
        "print(model.predict(['get me the news']))"
      ],
      "execution_count": 0,
      "outputs": [
        {
          "output_type": "stream",
          "text": [
            "['Radio']\n"
          ],
          "name": "stdout"
        }
      ]
    },
    {
      "cell_type": "code",
      "metadata": {
        "id": "w2c46DylzhDb",
        "colab_type": "code",
        "outputId": "7e008f48-96ae-41dd-8171-4715336bc6ff",
        "colab": {
          "base_uri": "https://localhost:8080/",
          "height": 36
        }
      },
      "source": [
        "print(model.predict(['quiz me']))"
      ],
      "execution_count": 0,
      "outputs": [
        {
          "output_type": "stream",
          "text": [
            "['answer']\n"
          ],
          "name": "stdout"
        }
      ]
    },
    {
      "cell_type": "code",
      "metadata": {
        "id": "ya-Gywwaz7wn",
        "colab_type": "code",
        "outputId": "70667482-cd8b-4da1-8afb-526f2ddaaa43",
        "colab": {
          "base_uri": "https://localhost:8080/",
          "height": 36
        }
      },
      "source": [
        "print(model.predict(['connect to device']))"
      ],
      "execution_count": 0,
      "outputs": [
        {
          "output_type": "stream",
          "text": [
            "['connect']\n"
          ],
          "name": "stdout"
        }
      ]
    },
    {
      "cell_type": "code",
      "metadata": {
        "id": "fWrIds5X0G4x",
        "colab_type": "code",
        "outputId": "299d02e7-7a09-4009-d910-109073c7d020",
        "colab": {
          "base_uri": "https://localhost:8080/",
          "height": 36
        }
      },
      "source": [
        "print(model.predict(['turn bluetooth the off']))"
      ],
      "execution_count": 0,
      "outputs": [
        {
          "output_type": "stream",
          "text": [
            "['bluetooth']\n"
          ],
          "name": "stdout"
        }
      ]
    },
    {
      "cell_type": "code",
      "metadata": {
        "id": "X-I-Ty4NECPh",
        "colab_type": "code",
        "colab": {}
      },
      "source": [
        "print(model.predict(['ra']))"
      ],
      "execution_count": 0,
      "outputs": []
    },
    {
      "cell_type": "code",
      "metadata": {
        "id": "Im5s78bM0OVg",
        "colab_type": "code",
        "colab": {}
      },
      "source": [
        "import pickle\n",
        "\n",
        "pkl_filename = \"textClass_model.pkl\"\n",
        "with open(pkl_filename, 'wb') as file:\n",
        "    pickle.dump(model, file)"
      ],
      "execution_count": 0,
      "outputs": []
    },
    {
      "cell_type": "code",
      "metadata": {
        "id": "S_wDU7BODWH9",
        "colab_type": "code",
        "colab": {}
      },
      "source": [
        ""
      ],
      "execution_count": 0,
      "outputs": []
    }
  ]
}